{
 "cells": [
  {
   "cell_type": "code",
   "execution_count": null,
   "id": "3127d7dd",
   "metadata": {},
   "outputs": [],
   "source": [
    "import numpy as np\n",
    "from tensorflow.keras.models import Sequential\n",
    "from tesnorflow.keras.layers import Conv2D, MaxPooling2D, Dense, Flatten"
   ]
  },
  {
   "cell_type": "code",
   "execution_count": null,
   "id": "35e9567c",
   "metadata": {},
   "outputs": [],
   "source": []
  },
  {
   "cell_type": "code",
   "execution_count": null,
   "id": "b92adea4",
   "metadata": {},
   "outputs": [],
   "source": [
    "x_train = np.loadtxt('input.csv', delimiter = ',')\n",
    "y_train = np.loadtxt('labels.csv', delimiter = ',')\n",
    "\n",
    "x_test = np.loadtxt('input_test.csv', delimiter = ',')\n",
    "y_train = np.loadtxt('labels_test.csv', delimiter = ',')"
   ]
  }
 ],
 "metadata": {
  "kernelspec": {
   "display_name": "Python 3 (ipykernel)",
   "language": "python",
   "name": "python3"
  },
  "language_info": {
   "codemirror_mode": {
    "name": "ipython",
    "version": 3
   },
   "file_extension": ".py",
   "mimetype": "text/x-python",
   "name": "python",
   "nbconvert_exporter": "python",
   "pygments_lexer": "ipython3",
   "version": "3.9.0"
  }
 },
 "nbformat": 4,
 "nbformat_minor": 5
}
