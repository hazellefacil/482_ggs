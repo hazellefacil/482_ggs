{
 "cells": [
  {
   "cell_type": "markdown",
   "id": "14a24e19",
   "metadata": {},
   "source": [
    "# **Importing the Dependencies**"
   ]
  },
  {
   "cell_type": "code",
   "execution_count": null,
   "id": "a07ccc2d",
   "metadata": {},
   "outputs": [],
   "source": [
    "import numpy as np\n",
    "import matplotlib.pyplot as plt\n",
    "from tensorflow.keras.models import Sequential\n",
    "from tesnorflow.keras.layers import Conv2D, MaxPooling2D, Dense, Flatten"
   ]
  },
  {
   "cell_type": "markdown",
   "id": "299c9007",
   "metadata": {},
   "source": [
    "# **Loading the Dataset**"
   ]
  },
  {
   "cell_type": "code",
   "execution_count": null,
   "id": "82c7b947",
   "metadata": {},
   "outputs": [],
   "source": [
    "x_train = np.loadtxt('input.csv', delimiter = ',')\n",
    "y_train = np.loadtxt('labels.csv', delimiter = ',')\n",
    "\n",
    "x_test = np.loadtxt('input_test.csv', delimiter = ',')\n",
    "y_train = np.loadtxt('labels_test.csv', delimiter = ',')"
   ]
  },
  {
   "cell_type": "markdown",
   "id": "9ea92492",
   "metadata": {},
   "source": [
    "This is the size of the data used to train the CNN model"
   ]
  },
  {
   "cell_type": "code",
   "execution_count": null,
   "id": "9023e42f",
   "metadata": {},
   "outputs": [],
   "source": [
    "print(\"Size of x_train data \", x_train.shape)\n",
    "print(\"Size of y_train data \", y_train.shape)\n",
    "print(\"Size of x_test data\", x_test.shape)\n",
    "print(\"Size of y_test data\", y_test.shape)"
   ]
  },
  {
   "cell_type": "code",
   "execution_count": null,
   "id": "8b5af952",
   "metadata": {},
   "outputs": [],
   "source": [
    "idx = random.randint\n",
    "plt.imshow(x_train[idx, :])"
   ]
  }
 ],
 "metadata": {
  "kernelspec": {
   "display_name": "Python 3 (ipykernel)",
   "language": "python",
   "name": "python3"
  },
  "language_info": {
   "codemirror_mode": {
    "name": "ipython",
    "version": 3
   },
   "file_extension": ".py",
   "mimetype": "text/x-python",
   "name": "python",
   "nbconvert_exporter": "python",
   "pygments_lexer": "ipython3",
   "version": "3.9.0"
  }
 },
 "nbformat": 4,
 "nbformat_minor": 5
}
